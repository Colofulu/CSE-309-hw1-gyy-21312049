{
 "cells": [
  {
   "cell_type": "markdown",
   "metadata": {},
   "source": [
    "数据安全与隐私计算_作业_1_高洋洋_21312049 ：利用shamir门限方案实现图片的秘密共享"
   ]
  },
  {
   "cell_type": "markdown",
   "metadata": {},
   "source": [
    "shamir秘密共享方案：将秘密分割成多个部分（称为份额）并将这些份额分发给参与者的加密方法"
   ]
  },
  {
   "cell_type": "code",
   "execution_count": 33,
   "metadata": {},
   "outputs": [
    {
     "name": "stdout",
     "output_type": "stream",
     "text": [
      "份额: [(1, 178), (2, 130), (3, 12), (4, 238), (5, 198), (6, 50)]\n",
      "重构的秘密: 254.0\n"
     ]
    }
   ],
   "source": [
    "from random import randint\n",
    "import random\n",
    "\n",
    "secret = 254  # 要共享的秘密\n",
    "num_shares = 6  # 要创建的份额总数\n",
    "threshold = 4  # 重构秘密所需的最小份额数量\n",
    "\n",
    "# Shamir的秘密共享方案 - 秘密分割\n",
    "def generate_coefficients(secret, threshold):\n",
    "    coefficients = [secret] # 将秘密值作为系数列表的第一个元素\n",
    "    for _ in range(threshold - 1):\n",
    "        coefficients.append(random.randint(1, 100)) # 生成随机系数，添加到列表中\n",
    "    return coefficients\n",
    "\n",
    "def generate_shares(secret, num_shares, threshold):\n",
    "    coefficients = generate_coefficients(secret, threshold)\n",
    "    shares = []\n",
    "    # coefficients = generate_coefficients(secret, threshold)\n",
    "    for i in range(1, num_shares + 1):\n",
    "        share = sum(c * (i ** power) for power, c in enumerate(coefficients)) % 256\n",
    "        shares.append((i, share))\n",
    "    return shares\n",
    "\n",
    "# Shamir的秘密共享方案 - 秘密重构\n",
    "def reconstruct_secret(shares):\n",
    "    secret = 0\n",
    "    for i, share in shares:\n",
    "        num, den = 1, 1\n",
    "        for j, _ in shares:\n",
    "            if i != j:\n",
    "                num *= -j\n",
    "                den *= (i - j)\n",
    "        lagrange = share * num / den\n",
    "        secret += lagrange \n",
    "        secret = secret % 256\n",
    "    return secret\n",
    "\n",
    "# 将秘密分割成份额\n",
    "shares = generate_shares(secret, num_shares, threshold)\n",
    "print(\"份额:\", shares)\n",
    "\n",
    "# 使用最小份额阈值重构秘密\n",
    "reconstructed_secret = reconstruct_secret(shares[:threshold])\n",
    "print(\"重构的秘密:\", reconstructed_secret)"
   ]
  },
  {
   "cell_type": "markdown",
   "metadata": {},
   "source": [
    "需要传入图片，并将图片利用上述shamir方案进行秘密分割，之后再进行秘密恢复\n",
    "\n",
    "当处理图像时，可以使用Python中的PIL或者OpenCV库来读取文件图像"
   ]
  },
  {
   "cell_type": "code",
   "execution_count": 34,
   "metadata": {},
   "outputs": [
    {
     "name": "stdout",
     "output_type": "stream",
     "text": [
      "图像读取成功\n"
     ]
    }
   ],
   "source": [
    "from PIL import Image\n",
    "\n",
    "def read_image(file_path):\n",
    "    try:\n",
    "        img = Image.open(file_path)\n",
    "        return img\n",
    "    except IOError:\n",
    "        print(\"无法打开图像文件\")\n",
    "\n",
    "# 读取图像文件\n",
    "file_path = \"/Users/colofuluangang/Desktop/code/Shamir/原始图片/1.png\"\n",
    "image = read_image(file_path)\n",
    "\n",
    "if image:\n",
    "    print(\"图像读取成功\")"
   ]
  },
  {
   "cell_type": "markdown",
   "metadata": {},
   "source": [
    "为了更好的测试代码，将输入的图片统一规格后再处理（不统一处理也可以，只是时间可能会长一点）"
   ]
  },
  {
   "cell_type": "code",
   "execution_count": 35,
   "metadata": {},
   "outputs": [
    {
     "data": {
      "text/plain": [
       "'\\n# 打开第一张PNG图像\\nimage1 = Image.open(\"/Users/colofuluangang/Desktop/code/Shamir/原始图片/1.png\")\\nwidth, height = image1.size\\n\\n# 打开第二张PNG图像\\nimage2 = Image.open(\"/Users/colofuluangang/Desktop/code/Shamir/原始图片/2.png\")\\n\\n# 确保两张图像的尺寸相同\\nif image1.size != image2.size:\\n    image2 = image2.resize(image1.size)\\n\\n# 确保两张图像的颜色模式相同（RGB）\\nif image1.mode != \\'RGB\\':\\n    image1 = image1.convert(\\'RGB\\')\\nif image2.mode != \\'RGB\\':\\n    image2 = image2.convert(\\'RGB\\')\\n\\n# 保存image2\\nimage2.save(\"/Users/colofuluangang/Desktop/code/Shamir/原始图片/resize2.png\")\\n'"
      ]
     },
     "execution_count": 35,
     "metadata": {},
     "output_type": "execute_result"
    }
   ],
   "source": [
    "from PIL import Image\n",
    "'''\n",
    "# 打开第一张PNG图像\n",
    "image1 = Image.open(\"/Users/colofuluangang/Desktop/code/Shamir/原始图片/1.png\")\n",
    "width, height = image1.size\n",
    "\n",
    "# 打开第二张PNG图像\n",
    "image2 = Image.open(\"/Users/colofuluangang/Desktop/code/Shamir/原始图片/2.png\")\n",
    "\n",
    "# 确保两张图像的尺寸相同\n",
    "if image1.size != image2.size:\n",
    "    image2 = image2.resize(image1.size)\n",
    "\n",
    "# 确保两张图像的颜色模式相同（RGB）\n",
    "if image1.mode != 'RGB':\n",
    "    image1 = image1.convert('RGB')\n",
    "if image2.mode != 'RGB':\n",
    "    image2 = image2.convert('RGB')\n",
    "\n",
    "# 保存image2\n",
    "image2.save(\"/Users/colofuluangang/Desktop/code/Shamir/原始图片/resize2.png\")\n",
    "'''"
   ]
  },
  {
   "cell_type": "markdown",
   "metadata": {},
   "source": [
    "利用数字签名算法，对图像进行数字签名，数字签名通过非对称加密算法实现，利用Python中的哈希算法和RSA数字签名算法来对图像进行数字签名，用来验证最后恢复的图像不是伪造的，也没有被修改，同样秘密分发者也无法抵赖图片是他发送的。"
   ]
  },
  {
   "cell_type": "markdown",
   "metadata": {},
   "source": [
    "生成RSA公私钥对并将它们以文件形式保存，使用Python的Crypto库。其中公钥是公开的，私钥是秘密分发者个人持有，其他人无法得到"
   ]
  },
  {
   "cell_type": "code",
   "execution_count": 36,
   "metadata": {},
   "outputs": [],
   "source": [
    "from Crypto.PublicKey import RSA\n",
    "\n",
    "# 生成RSA密钥对\n",
    "key = RSA.generate(2048)  # 这里使用2048位的密钥大小，您可以根据需要选择不同的密钥大小\n",
    "\n",
    "# 获取私钥\n",
    "private_key = key.export_key()\n",
    "\n",
    "# 获取公钥\n",
    "public_key = key.publickey().export_key()\n",
    "\n",
    "# 保存私钥到文件\n",
    "with open(\"/Users/colofuluangang/Desktop/code/Shamir/RSA密钥对文件/private_key.pem\", \"wb\") as private_key_file:\n",
    "    private_key_file.write(private_key)\n",
    "\n",
    "# 保存公钥到文件\n",
    "with open(\"/Users/colofuluangang/Desktop/code/Shamir/RSA密钥对文件/public_key.pem\", \"wb\") as public_key_file:\n",
    "    public_key_file.write(public_key)"
   ]
  },
  {
   "cell_type": "markdown",
   "metadata": {},
   "source": [
    "对图像进行数字签名"
   ]
  },
  {
   "cell_type": "code",
   "execution_count": 37,
   "metadata": {},
   "outputs": [
    {
     "name": "stdout",
     "output_type": "stream",
     "text": [
      "数字签名完成\n"
     ]
    }
   ],
   "source": [
    "from PIL import Image\n",
    "from Crypto.Hash import SHA256\n",
    "from Crypto.PublicKey import RSA\n",
    "from Crypto.Signature import pkcs1_15\n",
    "\n",
    "# 提取图像数据的像素数据\n",
    "image = Image.open(\"/Users/colofuluangang/Desktop/code/Shamir/原始图片/1.png\")\n",
    "pixel_data = list(image.getdata())\n",
    "\n",
    "# 计算图像数据的SHA-256哈希值\n",
    "sha256_hash = SHA256.new()\n",
    "for pixel in pixel_data:\n",
    "    sha256_hash.update(bytes(pixel))\n",
    "\n",
    "# 从密钥文件加载私钥\n",
    "with open(\"/Users/colofuluangang/Desktop/code/Shamir/RSA密钥对文件/private_key.pem\", \"rb\") as private_key_file:\n",
    "    private_key_data = private_key_file.read()\n",
    "\n",
    "# 生成私钥对象\n",
    "private_key = RSA.import_key(private_key_data)\n",
    "\n",
    "# 使用私钥对SHA-256哈希值进行签名\n",
    "signature_bytes = pkcs1_15.new(private_key).sign(sha256_hash)\n",
    "\n",
    "# 保存数字签名\n",
    "with open(\"/Users/colofuluangang/Desktop/code/Shamir/签名文件/signature.sig\", \"wb\") as sig_file:\n",
    "    sig_file.write(signature_bytes)\n",
    "print(\"数字签名完成\")\n"
   ]
  },
  {
   "cell_type": "markdown",
   "metadata": {},
   "source": [
    "利用Python的图像处理库来将RGB图像分成单独的R、G、B通道。"
   ]
  },
  {
   "cell_type": "code",
   "execution_count": 38,
   "metadata": {},
   "outputs": [
    {
     "name": "stdout",
     "output_type": "stream",
     "text": [
      "图像为 RGB 模式\n"
     ]
    }
   ],
   "source": [
    "from PIL import Image \n",
    "\n",
    "def split_channels(image):\n",
    "    r, g, b = image.split() #使用 split()函数拆分图像为R、G、B通道\n",
    "    return r, g, b\n",
    "\n",
    "# 读取图像文件\n",
    "file_path = \"/Users/colofuluangang/Desktop/code/Shamir/原始图片/1.png\"\n",
    "image = Image.open(file_path)\n",
    "width, height = image.size\n",
    "\n",
    "if image.mode == \"RGB\":\n",
    "    print(\"图像为 RGB 模式\")\n",
    "    r_channel, g_channel, b_channel = split_channels(image)\n",
    "    # 显示每个通道的图像\n",
    "    r_channel.save(\"/Users/colofuluangang/Desktop/code/Shamir/RGB通道图片/R通道.png\")\n",
    "    g_channel.save(\"/Users/colofuluangang/Desktop/code/Shamir/RGB通道图片/G通道.png\")\n",
    "    b_channel.save(\"/Users/colofuluangang/Desktop/code/Shamir/RGB通道图片/B通道.png\")\n",
    "else:\n",
    "    print(\"图像不是 RGB 模式\")"
   ]
  },
  {
   "cell_type": "markdown",
   "metadata": {},
   "source": [
    "将图片分割成RGB三通道的灰度图片之后，获取每张图片的像素值，然后对每张图片进行shamir分割，然后得到分割后图片"
   ]
  },
  {
   "cell_type": "code",
   "execution_count": 39,
   "metadata": {},
   "outputs": [
    {
     "name": "stdout",
     "output_type": "stream",
     "text": [
      "生成了6个B通道子秘密灰度图像\n"
     ]
    }
   ],
   "source": [
    "from random import randint\n",
    "import random\n",
    "from PIL import Image\n",
    "import numpy as np\n",
    "\n",
    "num_shares = 6  # 要创建的份额总数\n",
    "threshold = 4  # 重构秘密所需的最小份额数量\n",
    "file_path = \"/Users/colofuluangang/Desktop/code/Shamir/RGB通道图片/B通道.png\"\n",
    "image = Image.open(file_path)\n",
    "pixels = image.load()\n",
    "\n",
    "def generate_coefficients(secret, threshold):\n",
    "    coefficients = [secret] # 将秘密值作为系数列表的第一个元素\n",
    "    for _ in range(threshold - 1):\n",
    "        coefficients.append(random.randint(20, 300)) # 生成随机系数，添加到列表中\n",
    "    return coefficients\n",
    "\n",
    "# Shamir的秘密共享方案 - 秘密分割\n",
    "images = []\n",
    "def generate_shares(secret, num_shares, threshold, x, y):\n",
    "    coefficients = generate_coefficients(secret, threshold)\n",
    "    for i in range(1, num_shares + 1):\n",
    "        share = sum(c * (i ** power) for power, c in enumerate(coefficients)) % 256\n",
    "        images[i - 1].putpixel((x, y), share)\n",
    "\n",
    "\n",
    "for i in range(num_shares):\n",
    "    new_image = Image.new(\"L\", (width, height))\n",
    "    images.append(new_image)\n",
    "\n",
    "for y in range(height):\n",
    "    for x in range(width):\n",
    "        generate_shares(pixels[x, y], num_shares, threshold, x, y)\n",
    "        \n",
    "for idx, img in enumerate(images):\n",
    "    img.save(f\"/Users/colofuluangang/Desktop/code/Shamir/B通道子秘密图片/B{idx}.png\")\n",
    "print(f\"生成了{num_shares}个B通道子秘密灰度图像\")\n"
   ]
  },
  {
   "cell_type": "code",
   "execution_count": 40,
   "metadata": {},
   "outputs": [
    {
     "name": "stdout",
     "output_type": "stream",
     "text": [
      "生成了6个G通道子秘密灰度图像\n"
     ]
    }
   ],
   "source": [
    "from random import randint\n",
    "import random\n",
    "from PIL import Image\n",
    "import numpy as np\n",
    "\n",
    "num_shares = 6  # 要创建的份额总数\n",
    "threshold = 4  # 重构秘密所需的最小份额数量\n",
    "file_path = \"/Users/colofuluangang/Desktop/code/Shamir/RGB通道图片/G通道.png\"\n",
    "image = Image.open(file_path)\n",
    "pixels = image.load()\n",
    "\n",
    "def generate_coefficients(secret, threshold):\n",
    "    coefficients = [secret] # 将秘密值作为系数列表的第一个元素\n",
    "    for _ in range(threshold - 1):\n",
    "        coefficients.append(random.randint(20, 300)) # 生成随机系数，添加到列表中\n",
    "    return coefficients\n",
    "\n",
    "\n",
    "# Shamir的秘密共享方案 - 秘密分割\n",
    "def generate_shares(secret, num_shares, threshold, x, y):\n",
    "    coefficients = generate_coefficients(secret, threshold)\n",
    "    for i in range(1, num_shares + 1):\n",
    "        share = sum(c * (i ** power) for power, c in enumerate(coefficients)) % 256\n",
    "        images[i - 1].putpixel((x, y), share)\n",
    "\n",
    "images = []\n",
    "for i in range(num_shares):\n",
    "    new_image = Image.new(\"L\", (width, height))\n",
    "    images.append(new_image)\n",
    "\n",
    "for y in range(height):\n",
    "    for x in range(width):\n",
    "        generate_shares(pixels[x, y], num_shares, threshold, x, y)\n",
    "        \n",
    "for idx, img in enumerate(images):\n",
    "    img.save(f\"/Users/colofuluangang/Desktop/code/Shamir/G通道子秘密图片/G{idx}.png\")\n",
    "print(f\"生成了{num_shares}个G通道子秘密灰度图像\")"
   ]
  },
  {
   "cell_type": "code",
   "execution_count": 41,
   "metadata": {},
   "outputs": [
    {
     "name": "stdout",
     "output_type": "stream",
     "text": [
      "生成了6个R通道子秘密灰度图像\n"
     ]
    }
   ],
   "source": [
    "from random import randint\n",
    "import random\n",
    "from PIL import Image\n",
    "import numpy as np\n",
    "\n",
    "num_shares = 6  # 要创建的份额总数\n",
    "threshold = 4  # 重构秘密所需的最小份额数量\n",
    "file_path = \"/Users/colofuluangang/Desktop/code/Shamir/RGB通道图片/R通道.png\"\n",
    "image = Image.open(file_path)\n",
    "pixels = image.load()\n",
    "\n",
    "def generate_coefficients(secret, threshold):\n",
    "    coefficients = [secret] # 将秘密值作为系数列表的第一个元素\n",
    "    for _ in range(threshold - 1):\n",
    "        coefficients.append(random.randint(20, 300)) # 生成随机系数，添加到列表中\n",
    "    return coefficients\n",
    "\n",
    "# Shamir的秘密共享方案 - 秘密分割\n",
    "def generate_shares(secret, num_shares, threshold, x, y):\n",
    "    coefficients = generate_coefficients(secret, threshold)\n",
    "    for i in range(1, num_shares + 1):\n",
    "        share = sum(c * (i ** power) for power, c in enumerate(coefficients)) % 256\n",
    "        images[i - 1].putpixel((x, y), share)\n",
    "\n",
    "images = []\n",
    "for i in range(num_shares):\n",
    "    new_image = Image.new(\"L\", (width, height))\n",
    "    images.append(new_image)\n",
    "\n",
    "for y in range(height):\n",
    "    for x in range(width):\n",
    "        generate_shares(pixels[x, y], num_shares, threshold, x, y)\n",
    "        \n",
    "for idx, img in enumerate(images):\n",
    "    img.save(f\"/Users/colofuluangang/Desktop/code/Shamir/R通道子秘密图片/R{idx}.png\")\n",
    "print(f\"生成了{num_shares}个R通道子秘密灰度图像\")"
   ]
  },
  {
   "cell_type": "markdown",
   "metadata": {},
   "source": [
    "将分开的三通道灰度图合并为一张彩色图，发送给不同的参与方"
   ]
  },
  {
   "cell_type": "code",
   "execution_count": 42,
   "metadata": {},
   "outputs": [],
   "source": [
    "from PIL import Image\n",
    "\n",
    "num_shares = 6  # 要创建的份额总数\n",
    "\n",
    "for i in range(num_shares):\n",
    "    # 打开三张通道的图像\n",
    "    r_channel = Image.open(f\"/Users/colofuluangang/Desktop/code/Shamir/R通道子秘密图片/R{i}.png\")\n",
    "    g_channel = Image.open(f\"/Users/colofuluangang/Desktop/code/Shamir/G通道子秘密图片/G{i}.png\")\n",
    "    b_channel = Image.open(f\"/Users/colofuluangang/Desktop/code/Shamir/B通道子秘密图片/B{i}.png\")\n",
    "\n",
    "    # 合并图像\n",
    "    merged_image = Image.merge(\"RGB\", (r_channel, g_channel, b_channel))\n",
    "\n",
    "    # 保存合并后的彩色图像\n",
    "    merged_image.save(f\"/Users/colofuluangang/Desktop/code/Shamir/子秘密图像/子秘密{i}.png\")"
   ]
  },
  {
   "cell_type": "markdown",
   "metadata": {},
   "source": [
    "利用不同通道的子秘密图像来恢复对应通道的秘密图像"
   ]
  },
  {
   "cell_type": "code",
   "execution_count": 43,
   "metadata": {},
   "outputs": [],
   "source": [
    "from PIL import Image\n",
    "\n",
    "new_image = Image.new(\"L\", (width, height))\n",
    "num_shares = 6  # 要创建的份额总数\n",
    "threshold = 4  # 重构秘密所需的最小份额数量\n",
    "\n",
    "# 准备用于存储所有子图片数据的列表\n",
    "images = []\n",
    "for i in range(threshold):\n",
    "    file_path = f\"/Users/colofuluangang/Desktop/code/Shamir/B通道子秘密图片/B{i}.png\"\n",
    "    img = Image.open(file_path)\n",
    "    images.append(img.load())  # 将像素数据加载到内存，避免多次读取文件\n",
    "\n",
    "# Shamir的秘密共享方案 - 优化的秘密重构函数\n",
    "def reconstruct_secret(images, x, y):\n",
    "    secret = 0\n",
    "    for i in range(1, threshold + 1):\n",
    "        share = images[i - 1][x, y]\n",
    "        num, den = 1, 1\n",
    "        for j in range(1, threshold + 1):\n",
    "            if i != j:\n",
    "                num *= -j\n",
    "                den *= (i - j)\n",
    "        lagrange = share * num / den\n",
    "        secret += lagrange\n",
    "    secret %= 256\n",
    "    return int(secret)\n",
    "\n",
    "# 逐位置读取每张图片的灰度值并进行处理\n",
    "for y in range(height):\n",
    "    for x in range(width):\n",
    "        new_pixels = reconstruct_secret(images, x, y)\n",
    "        new_image.putpixel((x, y), new_pixels)\n",
    "            \n",
    "new_image.save(\"/Users/colofuluangang/Desktop/code/Shamir/B通道恢复秘密图片/B恢复.png\")\n"
   ]
  },
  {
   "cell_type": "code",
   "execution_count": 44,
   "metadata": {},
   "outputs": [],
   "source": [
    "from PIL import Image\n",
    "\n",
    "num_shares = 6  # 要创建的份额总数\n",
    "threshold = 4  # 重构秘密所需的最小份额数量\n",
    "new_image = Image.new(\"L\", (width, height))\n",
    "\n",
    "# 准备用于存储所有子图片数据的列表\n",
    "images = []\n",
    "for i in range(threshold):\n",
    "    file_path = f\"/Users/colofuluangang/Desktop/code/Shamir/G通道子秘密图片/G{i}.png\"\n",
    "    img = Image.open(file_path)\n",
    "    images.append(img.load())  # 将像素数据加载到内存，避免多次读取文件\n",
    "\n",
    "# Shamir的秘密共享方案 - 优化的秘密重构函数\n",
    "def reconstruct_secret(images, x, y):\n",
    "    secret = 0\n",
    "    for i in range(1, 1 + threshold):\n",
    "        share = images[i - 1][x, y]\n",
    "        num, den = 1, 1\n",
    "        for j in range(1, 1 + threshold):\n",
    "            if i != j:\n",
    "                num *= -j\n",
    "                den *= (i - j)\n",
    "        lagrange = share * num / den\n",
    "        secret += lagrange\n",
    "        secret %= 256\n",
    "    return int(secret)\n",
    "\n",
    "# 逐位置读取每张图片的灰度值并进行处理\n",
    "for y in range(height):\n",
    "    for x in range(width):\n",
    "        new_pixels = reconstruct_secret(images, x, y)\n",
    "        new_image.putpixel((x, y), new_pixels)\n",
    "            \n",
    "new_image.save(\"/Users/colofuluangang/Desktop/code/Shamir/G通道恢复秘密图片/G恢复.png\")\n"
   ]
  },
  {
   "cell_type": "code",
   "execution_count": 45,
   "metadata": {},
   "outputs": [],
   "source": [
    "from PIL import Image\n",
    "\n",
    "num_shares = 6  # 要创建的份额总数\n",
    "threshold = 4  # 重构秘密所需的最小份额数量\n",
    "new_image = Image.new(\"L\", (width, height))\n",
    "\n",
    "# 准备用于存储所有子图片数据的列表\n",
    "images = []\n",
    "for i in range(threshold):\n",
    "    file_path = f\"/Users/colofuluangang/Desktop/code/Shamir/R通道子秘密图片/R{i}.png\"\n",
    "    img = Image.open(file_path)\n",
    "    images.append(img.load())  # 将像素数据加载到内存，避免多次读取文件\n",
    "\n",
    "# Shamir的秘密共享方案 - 优化的秘密重构函数\n",
    "def reconstruct_secret(images, x, y):\n",
    "    secret = 0\n",
    "    for i in range(1, 1 + threshold):\n",
    "        share = images[i - 1][x, y]\n",
    "        num, den = 1, 1\n",
    "        for j in range(1, 1 + threshold):\n",
    "            if i != j:\n",
    "                num *= -j\n",
    "                den *= (i - j)\n",
    "        lagrange = share * num / den\n",
    "        secret += lagrange\n",
    "        secret %= 256\n",
    "    return int(secret)\n",
    "\n",
    "# 逐位置读取每张图片的灰度值并进行处理\n",
    "for y in range(height):\n",
    "    for x in range(width):\n",
    "        new_pixels = reconstruct_secret(images, x, y)\n",
    "        new_image.putpixel((x, y), new_pixels)\n",
    "            \n",
    "new_image.save(\"/Users/colofuluangang/Desktop/code/Shamir/R通道恢复秘密图片/R恢复.png\")\n"
   ]
  },
  {
   "cell_type": "markdown",
   "metadata": {},
   "source": [
    "最后将三通道的恢复灰度图像合并成彩色图像"
   ]
  },
  {
   "cell_type": "code",
   "execution_count": 46,
   "metadata": {},
   "outputs": [],
   "source": [
    "from PIL import Image\n",
    "\n",
    "# 打开三张通道的图像\n",
    "r_channel = Image.open(\"/Users/colofuluangang/Desktop/code/Shamir/R通道恢复秘密图片/R恢复.png\")\n",
    "g_channel = Image.open(\"/Users/colofuluangang/Desktop/code/Shamir/G通道恢复秘密图片/G恢复.png\")\n",
    "b_channel = Image.open(\"/Users/colofuluangang/Desktop/code/Shamir/B通道恢复秘密图片/B恢复.png\")\n",
    "\n",
    "# 合并图像\n",
    "merged_image = Image.merge(\"RGB\", (r_channel, g_channel, b_channel))\n",
    "\n",
    "# 保存合并后的彩色图像\n",
    "merged_image.save(\"/Users/colofuluangang/Desktop/code/Shamir/恢复图像/恢复图像.png\")\n"
   ]
  },
  {
   "cell_type": "markdown",
   "metadata": {},
   "source": [
    "如果秘密发送者在场，他可以对比原始图片和恢复图片是否完全相同"
   ]
  },
  {
   "cell_type": "code",
   "execution_count": 47,
   "metadata": {},
   "outputs": [
    {
     "name": "stdout",
     "output_type": "stream",
     "text": [
      "两张图片完全相同\n"
     ]
    }
   ],
   "source": [
    "from PIL import Image\n",
    "\n",
    "# 打开第一张图片\n",
    "image1 = Image.open(\"/Users/colofuluangang/Desktop/code/Shamir/原始图片/1.png\")\n",
    "\n",
    "# 打开第二张图片\n",
    "image2 = Image.open(\"/Users/colofuluangang/Desktop/code/Shamir/恢复图像/恢复图像.png\")\n",
    "\n",
    "# 比较两张图片的像素数据\n",
    "if list(image1.getdata()) == list(image2.getdata()):\n",
    "    print(\"两张图片完全相同\")\n",
    "else:\n",
    "    print(\"两张图片不同\")\n"
   ]
  },
  {
   "cell_type": "markdown",
   "metadata": {},
   "source": [
    "如果没有秘密发送者在场，需要验证图片是原来的图片没有被篡改，则要验证签名，需要提取嵌入在图像中的数字签名数据，然后使用相应的公钥来验证签名的有效性\n",
    "\n",
    "其中pkcs1_15.new(public_key).verify(sha256_hash, signature) 用来验证数字签名。使用 Crypto.Signature.pkcs1_15 模块中的 PKCS#1 v1.5 签名方案来验证数字签名的有效性。\n",
    "\n",
    "1. public_key 是用于验证数字签名的公钥。\n",
    "2. sha256_hash 是之前计算的图像数据的SHA-256哈希值。\n",
    "3. signature 是数字签名本身，您希望验证其有效性。\n",
    "4. 将公钥、哈希值和数字签名传递给 pkcs1_15.new(public_key).verify() 函数，该函数会验证数字签名是否与给定的哈希值相匹配。如果数字签名有效，那么函数将返回而不引发异常，否则将引发 ValueError 或 TypeError 异常，指示签名无效。"
   ]
  },
  {
   "cell_type": "code",
   "execution_count": 48,
   "metadata": {},
   "outputs": [
    {
     "name": "stdout",
     "output_type": "stream",
     "text": [
      "数字签名验证成功，签名有效。\n"
     ]
    }
   ],
   "source": [
    "from PIL import Image\n",
    "from Crypto.Hash import SHA256\n",
    "from Crypto.PublicKey import RSA\n",
    "from Crypto.Signature import pkcs1_15\n",
    "\n",
    "# 打开数字签名文件\n",
    "with open(\"/Users/colofuluangang/Desktop/code/Shamir/签名文件/signature.sig\", \"rb\") as signature_file:\n",
    "    signature = signature_file.read()\n",
    "\n",
    "# 提取图像数据的像素数据\n",
    "image = Image.open(\"/Users/colofuluangang/Desktop/code/Shamir/恢复图像/恢复图像.png\")\n",
    "pixel_data = list(image.getdata())\n",
    "\n",
    "# 计算图像数据的SHA-256哈希值\n",
    "sha256_hash = SHA256.new()\n",
    "for pixel in pixel_data:\n",
    "    sha256_hash.update(bytes(pixel))\n",
    "\n",
    "# 打开公钥文件\n",
    "with open(\"/Users/colofuluangang/Desktop/code/Shamir/RSA密钥对文件/public_key.pem\", \"rb\") as public_key_file:\n",
    "    public_key_data = public_key_file.read()\n",
    "\n",
    "# 创建RSA公钥对象\n",
    "public_key = RSA.import_key(public_key_data)\n",
    "\n",
    "try:\n",
    "    # 使用公钥验证签名\n",
    "    pkcs1_15.new(public_key).verify(sha256_hash, signature)\n",
    "    print(\"数字签名验证成功，签名有效。\")\n",
    "except (ValueError, TypeError):\n",
    "    print(\"数字签名验证失败，签名无效。\")"
   ]
  }
 ],
 "metadata": {
  "kernelspec": {
   "display_name": "Python 3",
   "language": "python",
   "name": "python3"
  },
  "language_info": {
   "codemirror_mode": {
    "name": "ipython",
    "version": 3
   },
   "file_extension": ".py",
   "mimetype": "text/x-python",
   "name": "python",
   "nbconvert_exporter": "python",
   "pygments_lexer": "ipython3",
   "version": "3.9.6"
  }
 },
 "nbformat": 4,
 "nbformat_minor": 2
}
