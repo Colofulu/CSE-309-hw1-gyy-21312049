{
 "cells": [
  {
   "cell_type": "markdown",
   "metadata": {},
   "source": [
    "原来的代码能够保证秘密共享的数据没有被修改，享受数字签名带来诸多好处。\n",
    "\n",
    "但是原来的秘密共享方案并不是完全安全的，因为之前的假设是秘密共享的参与方都是诚实的\n",
    "\n",
    "实际上，如果参与方中有人不诚实，其他参与方虽然能够通过验证签名来得知图像（不是原来的图像）被修改过，但却不能得知谁传输了假的子秘密\n",
    "\n",
    "为了解决参与方不诚实的问题，需要对原本的门限方案进行改进。\n",
    "\n",
    "        注意：\n",
    "\n",
    "        1. 为了计算方便，参与方的序号统一从1开始\n",
    "\n",
    "        2. 需要实现的是基于Shamir秘密共享构造的可验证秘密共享方案\n",
    "\n",
    "        3. 为了方便验证和处理，将彩色通道分成了R、G、B三通道，并单独验证其正确性"
   ]
  },
  {
   "cell_type": "markdown",
   "metadata": {},
   "source": [
    "首先，实现简单的可证门限秘密共享，其中共享的是数字，成功后将数字换成R、G、B三通道灰度图的像素值即可。"
   ]
  },
  {
   "cell_type": "code",
   "execution_count": 17,
   "metadata": {},
   "outputs": [
    {
     "name": "stdout",
     "output_type": "stream",
     "text": [
      "[3, 3, 8, 9]\n",
      "[(1, 13), (2, 8), (3, 12), (4, 9), (5, 3), (6, 13)]\n",
      "[5, 5, 5, 4]\n",
      "11\n",
      "3\n",
      "1\n",
      "5\n",
      "5\n",
      "2\n",
      "5\n",
      "5\n",
      "3\n",
      "9\n",
      "9\n",
      "4\n",
      "4\n",
      "4\n",
      "5\n",
      "5\n",
      "5\n",
      "6\n",
      "5\n",
      "5\n",
      "所有份额有效\n"
     ]
    }
   ],
   "source": [
    "import random\n",
    "import sympy\n",
    "\n",
    "# 秘密数secret、份额数num_share、恢复秘密最小需要threshold\n",
    "secret = 3\n",
    "num_shares = 6\n",
    "threshold = 4\n",
    "\n",
    "# 生成大素数和生成元\n",
    "'''\n",
    "这段代码的作用是生成用于实现Feldman门限方案的大素数和生成元。\n",
    "\n",
    "sympy.randprime(2**12, 2**16) 生成一个大素数:sympy.randprime 是 SymPy 库中的一个函数，用于生成指定范围内的随机素数。\n",
    "\n",
    "这里生成一个范围从 2 的 12 次方到 2 的 16 次方之间的随机素数,并将其赋给 p 变量。\n",
    "\n",
    "random.randint(2, p - 2) 生成生成元：生成元是一个整数，它被选择为一个与素数 p 相关联的整数。\n",
    "\n",
    "这里通过随机选择一个范围在 2 到 p - 2 之间的整数,生成一个生成元,并将其赋给 g 变量。\n",
    "'''\n",
    "\n",
    "# p = sympy.randprime(2**12, 2**16)\n",
    "# g = random.randint(2, p - 2)\n",
    "p = 11\n",
    "g = 3\n",
    "q = 5\n",
    "\n",
    "\n",
    "# 这个函数是用来生成随机多项式的系数的，当然，在后续的计算中，每张图片中的所有像素值都是用同样的随机多项式，好方便分发验证消息\n",
    "def generate_coefficients(secret, threshold):\n",
    "    coefficients = [secret] # 将秘密值作为系数列表的第一个元素\n",
    "    for _ in range(threshold - 1):\n",
    "        coefficients.append(random.randint(1, 10)) # 生成随机系数，添加到列表中\n",
    "    return coefficients\n",
    "\n",
    "coefficients = generate_coefficients(secret, threshold) # 这里调用上述函数生成随机多项式，用于后续的秘密共享\n",
    "print(coefficients)\n",
    "\n",
    "# Shamir的秘密共享方案 - 秘密分割\n",
    "def generate_shares(num_shares):\n",
    "    shares = []\n",
    "    for i in range(1, num_shares + 1):\n",
    "        share = 0\n",
    "        for power, c  in enumerate(coefficients):\n",
    "            share += c * (i ** power) % q\n",
    "        shares.append((i, share))\n",
    "    return shares\n",
    "\n",
    "# Feldman门限方案 - 生成验证信息：接收两个参数p和g\n",
    "def generate_verification_information(p, g):\n",
    "    # verification_info用来存放承诺\n",
    "    verification_info = []\n",
    "    # 这个循环用来生成各方承诺\n",
    "    for power, c in enumerate(coefficients):\n",
    "        promise = pow(g, c) % p\n",
    "        verification_info.append(promise)\n",
    "    return verification_info\n",
    "\n",
    "# Feldman门限方案 - 验证份额：接收子秘密share，接收承诺，接收素数p，接收生成元g，接收参与方序号i\n",
    "def verify_share(share, verification_info, p, g, i):\n",
    "    wait_verification = pow(g, share) % p\n",
    "    print(wait_verification)\n",
    "    verification = 1\n",
    "    for power, promise in enumerate(verification_info):\n",
    "        i_power = pow(i, power)\n",
    "        verification *= pow(promise, i_power) % p\n",
    "    verification %= p\n",
    "    print(verification)\n",
    "    if wait_verification == verification % p:\n",
    "        return True\n",
    "    return False\n",
    "\n",
    "# 验证所有份额\n",
    "def verify_shares(shares, verification_info, p, g):\n",
    "    for i, share in shares:\n",
    "        # 对于每个子秘密，都验证一次\n",
    "        print(i)\n",
    "        if not verify_share(share, verification_info, p, g, i):\n",
    "            return False\n",
    "    return True\n",
    "\n",
    "# 分割秘密\n",
    "shares = generate_shares(num_shares)\n",
    "print(shares)\n",
    "# 生成验证信息\n",
    "verification_info = generate_verification_information(p, g)\n",
    "print(verification_info)\n",
    "# 模拟验证\n",
    "\n",
    "print(p)\n",
    "print(g)\n",
    "\n",
    "\n",
    "is_valid = verify_shares(shares, verification_info, p, g)\n",
    "\n",
    "if is_valid:\n",
    "    print(\"所有份额有效\")\n",
    "else:\n",
    "    print(\"至少有一个份额无效\")"
   ]
  },
  {
   "cell_type": "markdown",
   "metadata": {},
   "source": [
    "上述方案有一个限制，及 p 和 q 都得是大素数，且 q 是 p - 1 的因子，由于图片的恢复需要模256，显然不符合上述条件，所以上述方案并不能实现图像的可证秘密共享，下面尝试在原来方案的基础上，利用两次数字签名保证来实现图像的可证秘密共享"
   ]
  },
  {
   "cell_type": "markdown",
   "metadata": {},
   "source": [
    "1. 产生RSA公私钥对，并以文件的形式保存，使用Python的Crypto库。其中公钥是公开的，私钥是秘密分发者个人持有，其他人无法得到（密钥生成后打印完成信息）"
   ]
  },
  {
   "cell_type": "code",
   "execution_count": 18,
   "metadata": {},
   "outputs": [
    {
     "name": "stdout",
     "output_type": "stream",
     "text": [
      "RSA公私钥对文件已成功生成\n"
     ]
    }
   ],
   "source": [
    "from Crypto.PublicKey import RSA\n",
    "\n",
    "# 生成RSA密钥对\n",
    "key = RSA.generate(2048)  # 这里使用2048位的密钥大小，您可以根据需要选择不同的密钥大小\n",
    "\n",
    "# 获取私钥\n",
    "private_key = key.export_key()\n",
    "\n",
    "# 获取公钥\n",
    "public_key = key.publickey().export_key()\n",
    "\n",
    "# 保存私钥到文件\n",
    "with open(\"/Users/colofuluangang/Desktop/code/Shamir/RSA密钥对文件/private_key.pem\", \"wb\") as private_key_file:\n",
    "    private_key_file.write(private_key)\n",
    "\n",
    "# 保存公钥到文件\n",
    "with open(\"/Users/colofuluangang/Desktop/code/Shamir/RSA密钥对文件/public_key.pem\", \"wb\") as public_key_file:\n",
    "    public_key_file.write(public_key)\n",
    "\n",
    "# 完成生成\n",
    "print(\"RSA公私钥对文件已成功生成\")"
   ]
  },
  {
   "cell_type": "markdown",
   "metadata": {},
   "source": [
    "2. 对原始图像进行数字签名（签名完成后打印完成信息）"
   ]
  },
  {
   "cell_type": "code",
   "execution_count": 19,
   "metadata": {},
   "outputs": [
    {
     "name": "stdout",
     "output_type": "stream",
     "text": [
      "原始图像数字签名完成\n"
     ]
    }
   ],
   "source": [
    "from PIL import Image\n",
    "from Crypto.Hash import SHA256\n",
    "from Crypto.PublicKey import RSA\n",
    "from Crypto.Signature import pkcs1_15\n",
    "\n",
    "# 提取图像数据的像素数据\n",
    "image = Image.open(\"/Users/colofuluangang/Desktop/code/Shamir/原始图片/1.png\")\n",
    "pixel_data = list(image.getdata())\n",
    "\n",
    "# 计算图像数据的SHA-256哈希值\n",
    "sha256_hash = SHA256.new()\n",
    "for pixel in pixel_data:\n",
    "    sha256_hash.update(bytes(pixel))\n",
    "\n",
    "# 从密钥文件加载私钥\n",
    "with open(\"/Users/colofuluangang/Desktop/code/Shamir/RSA密钥对文件/private_key.pem\", \"rb\") as private_key_file:\n",
    "    private_key_data = private_key_file.read()\n",
    "\n",
    "# 生成私钥对象\n",
    "private_key = RSA.import_key(private_key_data)\n",
    "\n",
    "# 使用私钥对SHA-256哈希值进行签名\n",
    "signature_bytes = pkcs1_15.new(private_key).sign(sha256_hash)\n",
    "\n",
    "# 保存数字签名\n",
    "with open(\"/Users/colofuluangang/Desktop/code/Shamir/签名文件/signature.sig\", \"wb\") as sig_file:\n",
    "    sig_file.write(signature_bytes)\n",
    "\n",
    "# 签名完成\n",
    "print(\"原始图像数字签名完成\")"
   ]
  },
  {
   "cell_type": "markdown",
   "metadata": {},
   "source": [
    "3. 利用Python的图像处理库来将RGB图像分成单独的R、G、B通道。"
   ]
  },
  {
   "cell_type": "code",
   "execution_count": 20,
   "metadata": {},
   "outputs": [
    {
     "name": "stdout",
     "output_type": "stream",
     "text": [
      "图像为 RGB 模式\n",
      "图像已分割\n"
     ]
    }
   ],
   "source": [
    "from PIL import Image \n",
    "\n",
    "def split_channels(image):\n",
    "    r, g, b = image.split() #使用 split()函数拆分图像为R、G、B通道\n",
    "    return r, g, b\n",
    "\n",
    "# 读取图像文件\n",
    "file_path = \"/Users/colofuluangang/Desktop/code/Shamir/原始图片/1.png\"\n",
    "image = Image.open(file_path)\n",
    "width, height = image.size\n",
    "\n",
    "if image.mode == \"RGB\":\n",
    "    print(\"图像为 RGB 模式\")\n",
    "    r_channel, g_channel, b_channel = split_channels(image)\n",
    "    # 显示每个通道的图像\n",
    "    r_channel.save(\"/Users/colofuluangang/Desktop/code/Shamir/RGB通道图片/R通道.png\")\n",
    "    g_channel.save(\"/Users/colofuluangang/Desktop/code/Shamir/RGB通道图片/G通道.png\")\n",
    "    b_channel.save(\"/Users/colofuluangang/Desktop/code/Shamir/RGB通道图片/B通道.png\")\n",
    "    print(\"图像已分割\")\n",
    "else:\n",
    "    print(\"图像不是 RGB 模式\")"
   ]
  },
  {
   "cell_type": "markdown",
   "metadata": {},
   "source": [
    "4. 将图片分割成RGB三通道的灰度图像之后，获取每张图像的像素值，然后每张图像利用shamir门限方案产生num_shares个子秘密图像"
   ]
  },
  {
   "cell_type": "code",
   "execution_count": 21,
   "metadata": {},
   "outputs": [
    {
     "name": "stdout",
     "output_type": "stream",
     "text": [
      "生成了6个R通道子秘密灰度图像\n"
     ]
    }
   ],
   "source": [
    "from random import randint\n",
    "import random\n",
    "from PIL import Image\n",
    "import numpy as np\n",
    "\n",
    "num_shares = 6  # 要创建的份额总数\n",
    "threshold = 4  # 重构秘密所需的最小份额数量\n",
    "file_path = \"/Users/colofuluangang/Desktop/code/Shamir/RGB通道图片/R通道.png\"\n",
    "image = Image.open(file_path)\n",
    "pixels = image.load()\n",
    "\n",
    "def generate_coefficients(secret, threshold):\n",
    "    coefficients = [secret] # 将秘密值作为系数列表的第一个元素\n",
    "    for _ in range(threshold - 1):\n",
    "        coefficients.append(random.randint(20, 300)) # 生成随机系数，添加到列表中\n",
    "    return coefficients\n",
    "\n",
    "# Shamir的秘密共享方案 - 秘密分割\n",
    "def generate_shares(secret, num_shares, threshold, x, y):\n",
    "    coefficients = generate_coefficients(secret, threshold)\n",
    "    for i in range(1, num_shares + 1):\n",
    "        share = sum(c * (i ** power) for power, c in enumerate(coefficients)) % 256\n",
    "        images[i - 1].putpixel((x, y), share)\n",
    "\n",
    "images = []\n",
    "for i in range(num_shares):\n",
    "    new_image = Image.new(\"L\", (width, height))\n",
    "    images.append(new_image)\n",
    "\n",
    "for y in range(height):\n",
    "    for x in range(width):\n",
    "        generate_shares(pixels[x, y], num_shares, threshold, x, y)\n",
    "        \n",
    "for idx, img in enumerate(images):\n",
    "    img.save(f\"/Users/colofuluangang/Desktop/code/Shamir/R通道子秘密图片/R{idx}.png\")\n",
    "print(f\"生成了{num_shares}个R通道子秘密灰度图像\")"
   ]
  },
  {
   "cell_type": "code",
   "execution_count": 22,
   "metadata": {},
   "outputs": [
    {
     "name": "stdout",
     "output_type": "stream",
     "text": [
      "生成了6个G通道子秘密灰度图像\n"
     ]
    }
   ],
   "source": [
    "from random import randint\n",
    "import random\n",
    "from PIL import Image\n",
    "import numpy as np\n",
    "\n",
    "num_shares = 6  # 要创建的份额总数\n",
    "threshold = 4  # 重构秘密所需的最小份额数量\n",
    "file_path = \"/Users/colofuluangang/Desktop/code/Shamir/RGB通道图片/G通道.png\"\n",
    "image = Image.open(file_path)\n",
    "pixels = image.load()\n",
    "\n",
    "def generate_coefficients(secret, threshold):\n",
    "    coefficients = [secret] # 将秘密值作为系数列表的第一个元素\n",
    "    for _ in range(threshold - 1):\n",
    "        coefficients.append(random.randint(20, 300)) # 生成随机系数，添加到列表中\n",
    "    return coefficients\n",
    "\n",
    "\n",
    "# Shamir的秘密共享方案 - 秘密分割\n",
    "def generate_shares(secret, num_shares, threshold, x, y):\n",
    "    coefficients = generate_coefficients(secret, threshold)\n",
    "    for i in range(1, num_shares + 1):\n",
    "        share = sum(c * (i ** power) for power, c in enumerate(coefficients)) % 256\n",
    "        images[i - 1].putpixel((x, y), share)\n",
    "\n",
    "images = []\n",
    "for i in range(num_shares):\n",
    "    new_image = Image.new(\"L\", (width, height))\n",
    "    images.append(new_image)\n",
    "\n",
    "for y in range(height):\n",
    "    for x in range(width):\n",
    "        generate_shares(pixels[x, y], num_shares, threshold, x, y)\n",
    "        \n",
    "for idx, img in enumerate(images):\n",
    "    img.save(f\"/Users/colofuluangang/Desktop/code/Shamir/G通道子秘密图片/G{idx}.png\")\n",
    "print(f\"生成了{num_shares}个G通道子秘密灰度图像\")"
   ]
  },
  {
   "cell_type": "code",
   "execution_count": 23,
   "metadata": {},
   "outputs": [
    {
     "name": "stdout",
     "output_type": "stream",
     "text": [
      "生成了6个B通道子秘密灰度图像\n"
     ]
    }
   ],
   "source": [
    "from random import randint\n",
    "import random\n",
    "from PIL import Image\n",
    "import numpy as np\n",
    "\n",
    "num_shares = 6  # 要创建的份额总数\n",
    "threshold = 4  # 重构秘密所需的最小份额数量\n",
    "file_path = \"/Users/colofuluangang/Desktop/code/Shamir/RGB通道图片/B通道.png\"\n",
    "image = Image.open(file_path)\n",
    "pixels = image.load()\n",
    "\n",
    "def generate_coefficients(secret, threshold):\n",
    "    coefficients = [secret] # 将秘密值作为系数列表的第一个元素\n",
    "    for _ in range(threshold - 1):\n",
    "        coefficients.append(random.randint(20, 300)) # 生成随机系数，添加到列表中\n",
    "    return coefficients\n",
    "\n",
    "# Shamir的秘密共享方案 - 秘密分割\n",
    "images = []\n",
    "def generate_shares(secret, num_shares, threshold, x, y):\n",
    "    coefficients = generate_coefficients(secret, threshold)\n",
    "    for i in range(1, num_shares + 1):\n",
    "        share = sum(c * (i ** power) for power, c in enumerate(coefficients)) % 256\n",
    "        images[i - 1].putpixel((x, y), share)\n",
    "\n",
    "\n",
    "for i in range(num_shares):\n",
    "    new_image = Image.new(\"L\", (width, height))\n",
    "    images.append(new_image)\n",
    "\n",
    "for y in range(height):\n",
    "    for x in range(width):\n",
    "        generate_shares(pixels[x, y], num_shares, threshold, x, y)\n",
    "        \n",
    "for idx, img in enumerate(images):\n",
    "    img.save(f\"/Users/colofuluangang/Desktop/code/Shamir/B通道子秘密图片/B{idx}.png\")\n",
    "print(f\"生成了{num_shares}个B通道子秘密灰度图像\")\n"
   ]
  },
  {
   "cell_type": "markdown",
   "metadata": {},
   "source": [
    "5. 将同序号的秘密图像的三通道灰度图合成一张彩色图"
   ]
  },
  {
   "cell_type": "code",
   "execution_count": 24,
   "metadata": {},
   "outputs": [],
   "source": [
    "from PIL import Image\n",
    "\n",
    "num_shares = 6  # 要创建的份额总数\n",
    "\n",
    "for i in range(num_shares):\n",
    "    # 打开三张通道的图像\n",
    "    r_channel = Image.open(f\"/Users/colofuluangang/Desktop/code/Shamir/R通道子秘密图片/R{i}.png\")\n",
    "    g_channel = Image.open(f\"/Users/colofuluangang/Desktop/code/Shamir/G通道子秘密图片/G{i}.png\")\n",
    "    b_channel = Image.open(f\"/Users/colofuluangang/Desktop/code/Shamir/B通道子秘密图片/B{i}.png\")\n",
    "\n",
    "    # 合并图像\n",
    "    merged_image = Image.merge(\"RGB\", (r_channel, g_channel, b_channel))\n",
    "\n",
    "    # 保存合并后的彩色图像\n",
    "    merged_image.save(f\"/Users/colofuluangang/Desktop/code/Shamir/子秘密图像/子秘密{i}.png\")"
   ]
  },
  {
   "cell_type": "markdown",
   "metadata": {},
   "source": [
    "6. 发送方为了保证参与者之间能够验证对方的子秘密图像的正确性，对每个子秘密图像进行数字签名，并设立一个用于检验参与方是否诚实的平台，这个平台能够接收参与方的子秘密图像，然后验证这些参与方是否诚实，在验证成功前参与方之间不会知道其他人的子秘密图像信息，如果验证失败不进行之后的步骤"
   ]
  },
  {
   "cell_type": "code",
   "execution_count": 25,
   "metadata": {},
   "outputs": [
    {
     "name": "stdout",
     "output_type": "stream",
     "text": [
      "子秘密图像数字签名完成\n"
     ]
    }
   ],
   "source": [
    "from PIL import Image\n",
    "from Crypto.Hash import SHA256\n",
    "from Crypto.PublicKey import RSA\n",
    "from Crypto.Signature import pkcs1_15\n",
    "\n",
    "# 提取图像数据的像素数据\n",
    "for i in range(num_shares):\n",
    "    image = Image.open(f\"/Users/colofuluangang/Desktop/code/Shamir/子秘密图像/子秘密{i}.png\")\n",
    "    pixel_data = list(image.getdata())\n",
    "\n",
    "    # 计算图像数据的SHA-256哈希值\n",
    "    sha256_hash = SHA256.new()\n",
    "    for pixel in pixel_data:\n",
    "        sha256_hash.update(bytes(pixel))\n",
    "\n",
    "    # 从密钥文件加载私钥\n",
    "    with open(\"/Users/colofuluangang/Desktop/code/Shamir/RSA密钥对文件/private_key.pem\", \"rb\") as private_key_file:\n",
    "        private_key_data = private_key_file.read()\n",
    "\n",
    "    # 生成私钥对象\n",
    "    private_key = RSA.import_key(private_key_data)\n",
    "\n",
    "    # 使用私钥对SHA-256哈希值进行签名\n",
    "    signature_bytes = pkcs1_15.new(private_key).sign(sha256_hash)\n",
    "\n",
    "    # 保存数字签名\n",
    "    with open(f\"/Users/colofuluangang/Desktop/code/Shamir/签名文件/signature{i}.sig\", \"wb\") as sig_file:\n",
    "        sig_file.write(signature_bytes)\n",
    "\n",
    "# 签名完成\n",
    "print(\"子秘密图像数字签名完成\")"
   ]
  },
  {
   "cell_type": "markdown",
   "metadata": {},
   "source": [
    "7. 上述子秘密图像会发给秘密共享参与方，原图像签名文件和各子秘密图像签名文件以及RSA公钥文件都会公开发布，参与方到场后，将自己的子秘密图像交给下述平台，平台可以利用参与方公开的签名文件验证各个参与方子秘密图像的正确性，这里假设到场4位参与方序号为1、2、3、4，首先需要验证各个参与方的图像没有经过修改。如果验证失败，则中断后续的图像恢复操作。"
   ]
  },
  {
   "cell_type": "code",
   "execution_count": 26,
   "metadata": {},
   "outputs": [
    {
     "name": "stdout",
     "output_type": "stream",
     "text": [
      "数字签名验证成功，签名有效。\n",
      "数字签名验证成功，签名有效。\n",
      "数字签名验证成功，签名有效。\n",
      "数字签名验证成功，签名有效。\n"
     ]
    }
   ],
   "source": [
    "from PIL import Image\n",
    "from Crypto.Hash import SHA256\n",
    "from Crypto.PublicKey import RSA\n",
    "from Crypto.Signature import pkcs1_15\n",
    "\n",
    "# 初始化一个标志变量，用于标记是否有验证失败\n",
    "verification_failed = False\n",
    "\n",
    "# 打开数字签名文件\n",
    "for i in range(threshold):\n",
    "    with open(f\"/Users/colofuluangang/Desktop/code/Shamir/签名文件/signature{i}.sig\", \"rb\") as signature_file:\n",
    "        signature = signature_file.read()\n",
    "\n",
    "    # 提取图像数据的像素数据\n",
    "    image = Image.open(f\"/Users/colofuluangang/Desktop/code/Shamir/子秘密图像/子秘密{i}.png\")\n",
    "    pixel_data = list(image.getdata())\n",
    "\n",
    "    # 计算图像数据的SHA-256哈希值\n",
    "    sha256_hash = SHA256.new()\n",
    "    for pixel in pixel_data:\n",
    "        sha256_hash.update(bytes(pixel))\n",
    "\n",
    "    # 打开公钥文件\n",
    "    with open(\"/Users/colofuluangang/Desktop/code/Shamir/RSA密钥对文件/public_key.pem\", \"rb\") as public_key_file:\n",
    "        public_key_data = public_key_file.read()\n",
    "\n",
    "    # 创建RSA公钥对象\n",
    "    public_key = RSA.import_key(public_key_data)\n",
    "\n",
    "    try:\n",
    "        # 使用公钥验证签名\n",
    "        pkcs1_15.new(public_key).verify(sha256_hash, signature)\n",
    "        print(\"数字签名验证成功，签名有效。\")\n",
    "    except (ValueError, TypeError):\n",
    "        print(\"数字签名验证失败，签名无效。\")\n",
    "        verification_failed = True\n",
    "\n",
    "# 检查标志，如果有任何验证失败，就退出整个循环\n",
    "if verification_failed:\n",
    "    print(\"至少有一个数字签名验证失败，无法进行后续步骤\")\n"
   ]
  },
  {
   "cell_type": "markdown",
   "metadata": {},
   "source": [
    "8. 验证成功后，可以继续进行图像恢复，需要将三个子秘密图像分成R、G、B三通道的图像后各自保存，为了测试方便，这里直接用之前的分割的各通道秘密图像，序号为1、2、3、4，实际运行时，序号可以改变。\n",
    "\n",
    "        注意：下述的代码是重复的，为了方便理解，写了三遍，实际上可以整合在一起，成为一个代码块。"
   ]
  },
  {
   "cell_type": "code",
   "execution_count": 27,
   "metadata": {},
   "outputs": [],
   "source": [
    "from PIL import Image\n",
    "\n",
    "if verification_failed == False:\n",
    "    new_image = Image.new(\"L\", (width, height))\n",
    "    num_shares = 6  # 要创建的份额总数\n",
    "    threshold = 4  # 重构秘密所需的最小份额数量\n",
    "\n",
    "    # 准备用于存储所有子图片数据的列表\n",
    "    images = []\n",
    "    for i in range(threshold):\n",
    "        file_path = f\"/Users/colofuluangang/Desktop/code/Shamir/R通道子秘密图片/R{i}.png\"\n",
    "        img = Image.open(file_path)\n",
    "        images.append(img.load())  # 将像素数据加载到内存，避免多次读取文件\n",
    "\n",
    "    # Shamir的秘密共享方案 - 优化的秘密重构函数\n",
    "    def reconstruct_secret(images, x, y):\n",
    "        secret = 0\n",
    "        for i in range(1, threshold + 1):\n",
    "            share = images[i - 1][x, y]\n",
    "            num, den = 1, 1\n",
    "            for j in range(1, threshold + 1):\n",
    "                if i != j:\n",
    "                    num *= -j\n",
    "                    den *= (i - j)\n",
    "            lagrange = share * num / den\n",
    "            secret += lagrange\n",
    "        secret %= 256\n",
    "        return int(secret)\n",
    "\n",
    "    # 逐位置读取每张图片的灰度值并进行处理\n",
    "    for y in range(height):\n",
    "        for x in range(width):\n",
    "            new_pixels = reconstruct_secret(images, x, y)\n",
    "            new_image.putpixel((x, y), new_pixels)\n",
    "            \n",
    "    new_image.save(\"/Users/colofuluangang/Desktop/code/Shamir/R通道恢复秘密图片/R恢复.png\")"
   ]
  },
  {
   "cell_type": "code",
   "execution_count": 28,
   "metadata": {},
   "outputs": [],
   "source": [
    "from PIL import Image\n",
    "\n",
    "if verification_failed == False:\n",
    "    new_image = Image.new(\"L\", (width, height))\n",
    "    num_shares = 6  # 要创建的份额总数\n",
    "    threshold = 4  # 重构秘密所需的最小份额数量\n",
    "\n",
    "    # 准备用于存储所有子图片数据的列表\n",
    "    images = []\n",
    "    for i in range(threshold):\n",
    "        file_path = f\"/Users/colofuluangang/Desktop/code/Shamir/G通道子秘密图片/G{i}.png\"\n",
    "        img = Image.open(file_path)\n",
    "        images.append(img.load())  # 将像素数据加载到内存，避免多次读取文件\n",
    "\n",
    "    # Shamir的秘密共享方案 - 优化的秘密重构函数\n",
    "    def reconstruct_secret(images, x, y):\n",
    "        secret = 0\n",
    "        for i in range(1, threshold + 1):\n",
    "            share = images[i - 1][x, y]\n",
    "            num, den = 1, 1\n",
    "            for j in range(1, threshold + 1):\n",
    "                if i != j:\n",
    "                    num *= -j\n",
    "                    den *= (i - j)\n",
    "            lagrange = share * num / den\n",
    "            secret += lagrange\n",
    "        secret %= 256\n",
    "        return int(secret)\n",
    "\n",
    "    # 逐位置读取每张图片的灰度值并进行处理\n",
    "    for y in range(height):\n",
    "        for x in range(width):\n",
    "            new_pixels = reconstruct_secret(images, x, y)\n",
    "            new_image.putpixel((x, y), new_pixels)\n",
    "            \n",
    "    new_image.save(\"/Users/colofuluangang/Desktop/code/Shamir/G通道恢复秘密图片/G恢复.png\")"
   ]
  },
  {
   "cell_type": "code",
   "execution_count": 29,
   "metadata": {},
   "outputs": [],
   "source": [
    "from PIL import Image\n",
    "\n",
    "if verification_failed == False:\n",
    "    new_image = Image.new(\"L\", (width, height))\n",
    "    num_shares = 6  # 要创建的份额总数\n",
    "    threshold = 4  # 重构秘密所需的最小份额数量\n",
    "\n",
    "    # 准备用于存储所有子图片数据的列表\n",
    "    images = []\n",
    "    for i in range(threshold):\n",
    "        file_path = f\"/Users/colofuluangang/Desktop/code/Shamir/B通道子秘密图片/B{i}.png\"\n",
    "        img = Image.open(file_path)\n",
    "        images.append(img.load())  # 将像素数据加载到内存，避免多次读取文件\n",
    "\n",
    "    # Shamir的秘密共享方案 - 优化的秘密重构函数\n",
    "    def reconstruct_secret(images, x, y):\n",
    "        secret = 0\n",
    "        for i in range(1, threshold + 1):\n",
    "            share = images[i - 1][x, y]\n",
    "            num, den = 1, 1\n",
    "            for j in range(1, threshold + 1):\n",
    "                if i != j:\n",
    "                    num *= -j\n",
    "                    den *= (i - j)\n",
    "            lagrange = share * num / den\n",
    "            secret += lagrange\n",
    "        secret %= 256\n",
    "        return int(secret)\n",
    "\n",
    "    # 逐位置读取每张图片的灰度值并进行处理\n",
    "    for y in range(height):\n",
    "        for x in range(width):\n",
    "            new_pixels = reconstruct_secret(images, x, y)\n",
    "            new_image.putpixel((x, y), new_pixels)\n",
    "            \n",
    "    new_image.save(\"/Users/colofuluangang/Desktop/code/Shamir/B通道恢复秘密图片/B恢复.png\")"
   ]
  },
  {
   "cell_type": "markdown",
   "metadata": {},
   "source": [
    "9. 将恢复的R、G、B通道图像合成一张彩色图片"
   ]
  },
  {
   "cell_type": "code",
   "execution_count": 30,
   "metadata": {},
   "outputs": [],
   "source": [
    "from PIL import Image\n",
    "\n",
    "if verification_failed == False:\n",
    "    # 打开三张通道的图像\n",
    "    r_channel = Image.open(\"/Users/colofuluangang/Desktop/code/Shamir/R通道恢复秘密图片/R恢复.png\")\n",
    "    g_channel = Image.open(\"/Users/colofuluangang/Desktop/code/Shamir/G通道恢复秘密图片/G恢复.png\")\n",
    "    b_channel = Image.open(\"/Users/colofuluangang/Desktop/code/Shamir/B通道恢复秘密图片/B恢复.png\")\n",
    "\n",
    "    # 合并图像\n",
    "    merged_image = Image.merge(\"RGB\", (r_channel, g_channel, b_channel))\n",
    "\n",
    "    # 保存合并后的彩色图像\n",
    "    merged_image.save(\"/Users/colofuluangang/Desktop/code/Shamir/恢复图像/恢复图像.png\")"
   ]
  },
  {
   "cell_type": "markdown",
   "metadata": {},
   "source": [
    "10. 如果秘密分发者在场，可以直接对比两张图片的像素值来对比图像是否被修改"
   ]
  },
  {
   "cell_type": "code",
   "execution_count": 31,
   "metadata": {},
   "outputs": [
    {
     "name": "stdout",
     "output_type": "stream",
     "text": [
      "两张图片完全相同\n"
     ]
    }
   ],
   "source": [
    "from PIL import Image\n",
    "\n",
    "if verification_failed == False:\n",
    "    # 打开第一张图片\n",
    "    image1 = Image.open(\"/Users/colofuluangang/Desktop/code/Shamir/原始图片/1.png\")\n",
    "\n",
    "    # 打开第二张图片\n",
    "    image2 = Image.open(\"/Users/colofuluangang/Desktop/code/Shamir/恢复图像/恢复图像.png\")\n",
    "\n",
    "    # 比较两张图片的像素数据\n",
    "    if list(image1.getdata()) == list(image2.getdata()):\n",
    "        print(\"两张图片完全相同\")\n",
    "    else:\n",
    "        print(\"两张图片不同\")"
   ]
  },
  {
   "cell_type": "markdown",
   "metadata": {},
   "source": [
    "11. 大多数场景，秘密分发者不在场，需要验证恢复的图像的签名是否正确\n",
    "\n",
    "        注意：其中pkcs1_15.new(public_key).verify(sha256_hash, signature) 用来验证数字签名。使用 Crypto.Signature.pkcs1_15 模块中的 PKCS#1 v1.5 签名方案来验证数字签名的有效性。\n",
    "\n",
    "        1. public_key 是用于验证数字签名的公钥。\n",
    "        2. sha256_hash 是之前计算的图像数据的SHA-256哈希值。\n",
    "        3. signature 是数字签名本身，您希望验证其有效性。\n",
    "        4. 将公钥、哈希值和数字签名传递给 pkcs1_15.new(public_key).verify() 函数，该函数会验证数字签名是否与给定的哈希值相匹配。如果数字签名有效，那么函数将返回而不引发异常，否则将引发 ValueError 或 TypeError 异常，指示签名无效。"
   ]
  },
  {
   "cell_type": "code",
   "execution_count": 32,
   "metadata": {},
   "outputs": [
    {
     "name": "stdout",
     "output_type": "stream",
     "text": [
      "数字签名验证成功，签名有效。\n"
     ]
    }
   ],
   "source": [
    "from PIL import Image\n",
    "from Crypto.Hash import SHA256\n",
    "from Crypto.PublicKey import RSA\n",
    "from Crypto.Signature import pkcs1_15\n",
    "\n",
    "if verification_failed == False:\n",
    "    # 打开数字签名文件\n",
    "    with open(\"/Users/colofuluangang/Desktop/code/Shamir/签名文件/signature.sig\", \"rb\") as signature_file:\n",
    "        signature = signature_file.read()\n",
    "\n",
    "    # 提取图像数据的像素数据\n",
    "    image = Image.open(\"/Users/colofuluangang/Desktop/code/Shamir/恢复图像/恢复图像.png\")\n",
    "    pixel_data = list(image.getdata())\n",
    "\n",
    "    # 计算图像数据的SHA-256哈希值\n",
    "    sha256_hash = SHA256.new()\n",
    "    for pixel in pixel_data:\n",
    "        sha256_hash.update(bytes(pixel))\n",
    "\n",
    "    # 打开公钥文件\n",
    "    with open(\"/Users/colofuluangang/Desktop/code/Shamir/RSA密钥对文件/public_key.pem\", \"rb\") as public_key_file:\n",
    "        public_key_data = public_key_file.read()\n",
    "\n",
    "    # 创建RSA公钥对象\n",
    "    public_key = RSA.import_key(public_key_data)\n",
    "\n",
    "    try:\n",
    "        # 使用公钥验证签名\n",
    "        pkcs1_15.new(public_key).verify(sha256_hash, signature)\n",
    "        print(\"数字签名验证成功，签名有效。\")\n",
    "    except (ValueError, TypeError):\n",
    "        print(\"数字签名验证失败，签名无效。\")"
   ]
  }
 ],
 "metadata": {
  "kernelspec": {
   "display_name": "Python 3",
   "language": "python",
   "name": "python3"
  },
  "language_info": {
   "codemirror_mode": {
    "name": "ipython",
    "version": 3
   },
   "file_extension": ".py",
   "mimetype": "text/x-python",
   "name": "python",
   "nbconvert_exporter": "python",
   "pygments_lexer": "ipython3",
   "version": "3.9.6"
  }
 },
 "nbformat": 4,
 "nbformat_minor": 2
}
